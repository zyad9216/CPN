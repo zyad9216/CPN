{
 "cells": [
  {
   "cell_type": "markdown",
   "metadata": {},
   "source": [
    "# **Introduction**\n",
    "By: Zyad Elmekki (zyadabuharaz@hotmai.com)"
   ]
  },
  {
   "cell_type": "markdown",
   "metadata": {},
   "source": [
    "**We will use skills learned through prvious courses to do feasability study for a business case.**"
   ]
  },
  {
   "cell_type": "markdown",
   "metadata": {},
   "source": [
    "## **Case introduction:**"
   ]
  },
  {
   "cell_type": "markdown",
   "metadata": {},
   "source": [
    "Target is to use available online data to find a safe neighourhood to open a **calssy cafe in Boston**.\n",
    "\n",
    "We will start with choosing the safest borough by analysing crime data for opening a cafe and short list neighbourhoods where it will be feasable for the business.\n",
    "\n",
    "We will make use of our data science tools to analyse data and focus on the safest borough and explore its neighborhoods and the 10 most common venues in each neighborhood so that the best neighborhood where cafes are not among most common venue can be selected.\n",
    "\n",
    "Based on definition of our problem, we need:\n",
    "\n",
    "1- Find the safest borough\n",
    "\n",
    "2- List most common venues\n",
    "\n",
    "3- choosing the right neighbourhood\n",
    "\n",
    "4- Plot clustered neighborhoods to present findings and recommendations."
   ]
  },
  {
   "cell_type": "markdown",
   "metadata": {},
   "source": [
    "## **Data:**"
   ]
  },
  {
   "cell_type": "markdown",
   "metadata": {},
   "source": [
    "Following data sources will be needed to extract/generate the required information:\n",
    "\n",
    "**Part 1:** \n",
    "Using a real world data set from Kaggle containing the Boston Crimes (AUGUST 2015 - TO DATE): \n",
    "\n",
    "https://data.boston.gov/dataset/crime-incident-reports-august-2015-to-date-source-new-system\n",
    "\n",
    "**Part 2:**\n",
    "Gathering additional information of the list of officially categorized boroughs in Boston from Wikipedia.\n",
    "\n",
    "https://en.wikipedia.org/wiki/Neighborhoods_in_Boston\n",
    "\n",
    "**Part 3:**\n",
    "Creating a new consolidated dataset of the Neighborhoods, along with their boroughs, crime data and the respective Neighbourhood's co-ordinates.: This data will be fetched using OpenCage Geocoder to find the safest borough and explore the neighbourhood by plotting it on maps using Folium and perform exploratory data analysis.\n",
    "\n",
    "**Part 4:**\n",
    "Using FourSquare API to explore neighbourhood venues and to apply machine learning algorithm to cluster the neighbourhoods and present the findings by plotting it on map."
   ]
  },
  {
   "cell_type": "markdown",
   "metadata": {},
   "source": []
  },
  {
   "cell_type": "code",
   "execution_count": null,
   "metadata": {},
   "outputs": [],
   "source": []
  }
 ],
 "metadata": {
  "kernelspec": {
   "display_name": "Python",
   "language": "python",
   "name": "conda-env-python-py"
  },
  "language_info": {
   "codemirror_mode": {
    "name": "ipython",
    "version": 3
   },
   "file_extension": ".py",
   "mimetype": "text/x-python",
   "name": "python",
   "nbconvert_exporter": "python",
   "pygments_lexer": "ipython3",
   "version": "3.6.10"
  }
 },
 "nbformat": 4,
 "nbformat_minor": 4
}
